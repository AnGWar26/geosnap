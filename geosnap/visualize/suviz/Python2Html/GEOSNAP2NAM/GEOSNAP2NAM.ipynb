{
 "cells": [
  {
   "cell_type": "code",
   "execution_count": 1,
   "metadata": {},
   "outputs": [
    {
     "name": "stderr",
     "output_type": "stream",
     "text": [
      "c:\\users\\shunn\\anaconda3\\envs\\geosnap\\lib\\site-packages\\pyarrow\\pandas_compat.py:708: FutureWarning: .labels was deprecated in version 0.24.0. Use .codes instead.\n",
      "  labels = getattr(columns, 'labels', None) or [\n",
      "c:\\users\\shunn\\anaconda3\\envs\\geosnap\\lib\\site-packages\\pyarrow\\pandas_compat.py:735: FutureWarning: the 'labels' keyword is deprecated, use 'codes' instead\n",
      "  return pd.MultiIndex(levels=new_levels, labels=labels, names=columns.names)\n",
      "c:\\users\\shunn\\anaconda3\\envs\\geosnap\\lib\\site-packages\\pyarrow\\pandas_compat.py:752: FutureWarning: .labels was deprecated in version 0.24.0. Use .codes instead.\n",
      "  labels, = index.labels\n"
     ]
    }
   ],
   "source": [
    "import geosnap\n",
    "import pandas as pd\n",
    "from GEOSNAP2NAM import Aspatial_Clustering_viz"
   ]
  },
  {
   "cell_type": "code",
   "execution_count": 4,
   "metadata": {},
   "outputs": [],
   "source": [
    "param = {\n",
    "    #'title': \"Neighborhood Analysis: Kmeans, Albertville\",\n",
    "    #'title': \"Neighborhood Analysis: ward, LA\",\n",
    "    'title': \"Neighborhood Analysis: kmeans, LA\",\n",
    "    #'filename_suffix': \"Albertville\",\n",
    "    'filename_suffix': \"LA\", #31080\n",
    "    #'filename_suffix': \"Chicago\", #16980\n",
    "    'database': \"ltdb\",\n",
    "    'statefips': None,\n",
    "    #'cbsafips': \"10700\",\n",
    "     'cbsafips': \"31080\",\n",
    "    #'cbsafips': \"16980\",\n",
    "    'countyfips': None,\n",
    "    'years': [1980, 1990, 2000, 2010],           # Available years: 1970, 1980, 1990, 2000 and 2010\n",
    "    #'years': [1980, 2010],           # Available years: 1970, 1980, 1990, 2000 and 2010\n",
    "    'method': \"kmeans\",                          # affinity_propagation, gaussian_mixture, hdbscan, kmeans, spectral, ward   \n",
    "    'nClusters': 6,                              # This option should be commented out for affinity_propagation and hdbscan\n",
    "    'variables': [\"p_nonhisp_white_persons\", \n",
    "                  \"p_nonhisp_black_persons\", \n",
    "                  \"p_hispanic_persons\", \n",
    "                  \"p_native_persons\", \n",
    "                  \"p_asian_persons\",\n",
    "                  \"median_household_income\", \n",
    "                  \"median_home_value\",\n",
    "                  \"median_contract_rent\",\n",
    "                 ],\n",
    "    # optional visualization below.\n",
    "    'Index_of_neighborhood_change': True,        #choropleth map: Maps representing index of neighborhood Change\n",
    "    'Maps_of_neighborhood': True,                #choropleth map: Maps representing clustering result\t\t\n",
    "    'Distribution_INC1': True,                   #density chart: INC changes as the map extent changes \n",
    "    'Distribution_INC2_different_period': True,  #density chart: INC changes by different years\n",
    "    'Distribution_INC2_different_cluster': True, #density chart: INC changes by different clusters\n",
    "    'Temporal_change_in_neighborhoods': True,    #stacked chart: Temporal Change in Neighborhoods over years\n",
    "    'label': \"short_name\",\n",
    "}"
   ]
  },
  {
   "cell_type": "code",
   "execution_count": 5,
   "metadata": {},
   "outputs": [
    {
     "name": "stdout",
     "output_type": "stream",
     "text": [
      "Please run \"NAM_LA/index.html\" to your web browser.\n",
      "Advanced options are available in \"NAM_LA/data/GEO_CONFIG.js\"\n"
     ]
    }
   ],
   "source": [
    "Aspatial_Clustering_viz(geosnap, param)"
   ]
  },
  {
   "cell_type": "code",
   "execution_count": 4,
   "metadata": {},
   "outputs": [],
   "source": [
    "dictionary = geosnap.data.dictionary\n",
    "df = pd.DataFrame(dictionary)\n",
    "df.to_csv('test.csv')\n"
   ]
  },
  {
   "cell_type": "code",
   "execution_count": null,
   "metadata": {},
   "outputs": [],
   "source": []
  }
 ],
 "metadata": {
  "kernelspec": {
   "display_name": "Python 3",
   "language": "python",
   "name": "python3"
  },
  "language_info": {
   "codemirror_mode": {
    "name": "ipython",
    "version": 3
   },
   "file_extension": ".py",
   "mimetype": "text/x-python",
   "name": "python",
   "nbconvert_exporter": "python",
   "pygments_lexer": "ipython3",
   "version": "3.7.3"
  }
 },
 "nbformat": 4,
 "nbformat_minor": 2
}
